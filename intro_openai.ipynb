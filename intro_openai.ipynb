{
  "nbformat": 4,
  "nbformat_minor": 0,
  "metadata": {
    "colab": {
      "provenance": [],
      "toc_visible": true
    },
    "kernelspec": {
      "name": "python3",
      "display_name": "Python 3"
    },
    "language_info": {
      "name": "python"
    }
  },
  "cells": [
    {
      "cell_type": "markdown",
      "source": [
        "## Introduction\n",
        "\n",
        "TODO"
      ],
      "metadata": {
        "id": "O6KpyePRqOyf"
      }
    },
    {
      "cell_type": "markdown",
      "source": [
        "## Setup OpenAI API"
      ],
      "metadata": {
        "id": "FlYTMWD9pMKz"
      }
    },
    {
      "cell_type": "markdown",
      "source": [
        "### Install the necessary library"
      ],
      "metadata": {
        "id": "gVgCRr1BpQwe"
      }
    },
    {
      "cell_type": "code",
      "source": [
        "!pip install openai"
      ],
      "metadata": {
        "colab": {
          "base_uri": "https://localhost:8080/"
        },
        "id": "g2J1vkcyo5BU",
        "outputId": "0fcc14fe-ab15-422a-d242-9ea891ee3fa1"
      },
      "execution_count": 1,
      "outputs": [
        {
          "output_type": "stream",
          "name": "stdout",
          "text": [
            "Requirement already satisfied: openai in /usr/local/lib/python3.11/dist-packages (1.61.1)\n",
            "Requirement already satisfied: anyio<5,>=3.5.0 in /usr/local/lib/python3.11/dist-packages (from openai) (3.7.1)\n",
            "Requirement already satisfied: distro<2,>=1.7.0 in /usr/local/lib/python3.11/dist-packages (from openai) (1.9.0)\n",
            "Requirement already satisfied: httpx<1,>=0.23.0 in /usr/local/lib/python3.11/dist-packages (from openai) (0.28.1)\n",
            "Requirement already satisfied: jiter<1,>=0.4.0 in /usr/local/lib/python3.11/dist-packages (from openai) (0.8.2)\n",
            "Requirement already satisfied: pydantic<3,>=1.9.0 in /usr/local/lib/python3.11/dist-packages (from openai) (2.10.6)\n",
            "Requirement already satisfied: sniffio in /usr/local/lib/python3.11/dist-packages (from openai) (1.3.1)\n",
            "Requirement already satisfied: tqdm>4 in /usr/local/lib/python3.11/dist-packages (from openai) (4.67.1)\n",
            "Requirement already satisfied: typing-extensions<5,>=4.11 in /usr/local/lib/python3.11/dist-packages (from openai) (4.12.2)\n",
            "Requirement already satisfied: idna>=2.8 in /usr/local/lib/python3.11/dist-packages (from anyio<5,>=3.5.0->openai) (3.10)\n",
            "Requirement already satisfied: certifi in /usr/local/lib/python3.11/dist-packages (from httpx<1,>=0.23.0->openai) (2025.1.31)\n",
            "Requirement already satisfied: httpcore==1.* in /usr/local/lib/python3.11/dist-packages (from httpx<1,>=0.23.0->openai) (1.0.7)\n",
            "Requirement already satisfied: h11<0.15,>=0.13 in /usr/local/lib/python3.11/dist-packages (from httpcore==1.*->httpx<1,>=0.23.0->openai) (0.14.0)\n",
            "Requirement already satisfied: annotated-types>=0.6.0 in /usr/local/lib/python3.11/dist-packages (from pydantic<3,>=1.9.0->openai) (0.7.0)\n",
            "Requirement already satisfied: pydantic-core==2.27.2 in /usr/local/lib/python3.11/dist-packages (from pydantic<3,>=1.9.0->openai) (2.27.2)\n"
          ]
        }
      ]
    },
    {
      "cell_type": "markdown",
      "source": [
        "### Store your API key securely using Colab Secrets\n",
        "\n",
        "1. Navigate to \"Secrets\": In your Colab notebook, click on the \">\" icon to expand the left sidebar. Then, click on \"Secrets\".\n",
        "\n",
        "<!-- This might be slightly inaccurate, but try the following:\n",
        "2. Add your API key: In the \"Secrets\" tab, click \"Add secret\".\n",
        "3. Enter details: For \"Name\", enter `OPENAI_API_KEY`. For \"Value\", paste your actual OpenAI API key. Click \"Add\". -->\n",
        "\n",
        "2. Create the following secrets, replacing placeholders with your actual values:\n",
        "- `AZURE_OPENAI_API_KEY` : Your Azure OpenAI API key.\n",
        "- `AZURE_OPENAI_ENDPOINT` : Your Azure OpenAI endpoint (e.g., https://your-resource-name.openai.azure.com/).\n",
        "- `AZURE_OPENAI_API_VERSION` : Your target API version. Ex. `2024-07-01-preview`\n",
        "- `AZURE_OPENAI_DEPLOYMENT_NAME` : The deployment name you want to use. Ex. `main-gpt4-mini`"
      ],
      "metadata": {
        "id": "ca-nULempLjr"
      }
    },
    {
      "cell_type": "code",
      "source": [
        "# import openai, os\n",
        "\n",
        "# openai.api_type = \"azure\"\n",
        "# openai.api_key = os.environ.get(\"AZURE_OPENAI_API_KEY\")\n",
        "# openai.api_base = os.environ.get(\"AZURE_OPENAI_ENDPOINT\")\n",
        "# # openai.api_version = os.environ.get(\"AZURE_OPENAI_API_VERSION\")\n",
        "# openai.api_version = \"2024-07-01-preview\""
      ],
      "metadata": {
        "id": "NVhk_D-9o3Pg"
      },
      "execution_count": 8,
      "outputs": []
    },
    {
      "cell_type": "markdown",
      "source": [
        "### Load secrets"
      ],
      "metadata": {
        "id": "EjlfnCqQt2cw"
      }
    },
    {
      "cell_type": "code",
      "source": [
        "from google.colab import userdata\n",
        "\n",
        "AZURE_OPENAI_API_KEY = userdata.get(\"AZURE_OPENAI_API_KEY\")\n",
        "AZURE_OPENAI_ENDPOINT = userdata.get(\"AZURE_OPENAI_ENDPOINT\")\n",
        "API_VERSION = \"2024-07-01-preview\""
      ],
      "metadata": {
        "id": "-8gQN8kctPLZ"
      },
      "execution_count": 12,
      "outputs": []
    },
    {
      "cell_type": "code",
      "source": [
        "from openai import AzureOpenAI\n",
        "\n",
        "client = AzureOpenAI(\n",
        "    api_key=AZURE_OPENAI_API_KEY,\n",
        "    api_version=API_VERSION,\n",
        "    azure_endpoint=AZURE_OPENAI_ENDPOINT\n",
        ")"
      ],
      "metadata": {
        "id": "Hzg03bvJs-Dm"
      },
      "execution_count": 14,
      "outputs": []
    },
    {
      "cell_type": "markdown",
      "source": [
        "## Text Completion"
      ],
      "metadata": {
        "id": "8h-2NAljuqu0"
      }
    },
    {
      "cell_type": "code",
      "source": [
        "SYSTEM = \"You are a helpful assistant.\"\n",
        "USER_INPUT = \"What is the meaning of life?\"\n",
        "\n",
        "conversation = [{\"role\": \"system\", \"content\": SYSTEM}]\n",
        "conversation.append({\"role\": \"user\", \"content\": USER_INPUT})\n",
        "\n",
        "response = client.chat.completions.create(\n",
        "    model=\"main-gpt4-mini\", # model = \"deployment_name\".\n",
        "    messages=conversation,\n",
        "    temperature=0.1 # mostly factual\n",
        ")\n",
        "\n",
        "print(response.choices[0].message.content)"
      ],
      "metadata": {
        "colab": {
          "base_uri": "https://localhost:8080/"
        },
        "id": "pvah3XAsuCUv",
        "outputId": "1a8b154d-8e7d-45ea-b0eb-c761bc810377"
      },
      "execution_count": 16,
      "outputs": [
        {
          "output_type": "stream",
          "name": "stdout",
          "text": [
            "The meaning of life is a profound and philosophical question that has been contemplated by thinkers, theologians, and individuals throughout history. Different cultures, religions, and philosophies offer various interpretations:\n",
            "\n",
            "1. **Religious Perspectives**: Many religions propose that the meaning of life is connected to a relationship with the divine, fulfilling a purpose set by a higher power, or achieving spiritual enlightenment.\n",
            "\n",
            "2. **Philosophical Views**: Philosophers have approached the question in diverse ways. Existentialists, for example, argue that life has no inherent meaning, and it is up to each individual to create their own purpose. Utilitarianism might suggest that the meaning of life is to maximize happiness and reduce suffering.\n",
            "\n",
            "3. **Scientific Perspectives**: From a scientific standpoint, life can be viewed as a product of evolution, with the purpose being survival and reproduction. However, this does not address the subjective experience of meaning.\n",
            "\n",
            "4. **Personal Meaning**: Many people find meaning through personal experiences, relationships, achievements, and contributions to society. This subjective approach emphasizes that meaning can vary greatly from person to person.\n",
            "\n",
            "Ultimately, the meaning of life is a deeply personal question, and individuals often find their own answers through reflection, experience, and exploration of their beliefs and values.\n"
          ]
        }
      ]
    }
  ]
}